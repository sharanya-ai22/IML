{
  "nbformat": 4,
  "nbformat_minor": 0,
  "metadata": {
    "colab": {
      "provenance": []
    },
    "kernelspec": {
      "name": "python3",
      "display_name": "Python 3"
    },
    "language_info": {
      "name": "python"
    }
  },
  "cells": [
    {
      "cell_type": "markdown",
      "source": [
        "HackerRank - Stock Prediction"
      ],
      "metadata": {
        "id": "cDS8FsGeaiu5"
      }
    },
    {
      "cell_type": "code",
      "source": [
        "from __future__ import division\n",
        "from math import sqrt\n",
        "from heapq import heappush, heappop\n",
        "\n",
        "def printTransactions(money, k, d, names, owned, prices):\n",
        "    def mean(nums):\n",
        "        return sum(nums) / len(nums)\n",
        "\n",
        "    def sd(nums):\n",
        "        average = mean(nums)\n",
        "        return sqrt(sum([(x - average) ** 2 for x in nums]) / len(nums))\n",
        "\n",
        "    def info(price):\n",
        "        cc, sigma, acc = 0, 0.0, 0\n",
        "        for i in range(1, 5):\n",
        "            if price[i] > price[i - 1]: cc += 1\n",
        "        sigma = sd(price)\n",
        "        mu = mean(price)\n",
        "        c1, c2, c3 = mean(price[0:3]), mean(price[1:4]), mean(price[2:5])\n",
        "\n",
        "        return (price[-1] - price[-2]) / price[-2]\n",
        "\n",
        "    infos = map(info, prices)\n",
        "    res = []\n",
        "\n",
        "    drop = []\n",
        "\n",
        "    for i in range(k):\n",
        "        cur_info = info(prices[i])\n",
        "        if cur_info > 0 and owned[i] > 0:\n",
        "            res.append((names[i], 'SELL', str(owned[i])))\n",
        "        elif cur_info < 0:\n",
        "            heappush(drop, (cur_info, i, names[i]))\n",
        "\n",
        "    while money > 0.0 and drop:\n",
        "        rate, idx, n = heappop(drop)\n",
        "        amount = int(money / prices[idx][-1])\n",
        "        if amount > 0:\n",
        "            res.append((n, 'BUY', str(amount)))\n",
        "            money -= amount * prices[idx][-1]\n",
        "\n",
        "    print(len(res))\n",
        "    for r in res:\n",
        "        print(' '.join(r))\n",
        "\n",
        "\n",
        "if __name__ == '__main__':\n",
        "    m, k, d = [float(i) for i in input().strip().split()]\n",
        "    k = int(k)\n",
        "    d = int(d)\n",
        "    names = []\n",
        "    owned = []\n",
        "    prices = []\n",
        "    for data in range(k):\n",
        "        temp = input().strip().split()\n",
        "        names.append(temp[0])\n",
        "        owned.append(int(temp[1]))\n",
        "        prices.append([float(i) for i in temp[2:7]])\n",
        "\n",
        "    printTransactions(m, k, d, names, owned, prices)"
      ],
      "metadata": {
        "id": "Zu95XxHabY5p"
      },
      "execution_count": null,
      "outputs": []
    },
    {
      "cell_type": "markdown",
      "source": [
        "HackerRank - Discussion Classification\n",
        "\n"
      ],
      "metadata": {
        "id": "t9-Nqe_bbIAP"
      }
    },
    {
      "cell_type": "code",
      "source": [
        "import sys\n",
        "from sklearn.feature_extraction import text\n",
        "from sklearn import pipeline\n",
        "from sklearn import linear_model\n",
        "import numpy\n",
        "\n",
        "\n",
        "def make_model():\n",
        "    clf = pipeline.Pipeline([\n",
        "        ('vect',\n",
        "         text.TfidfVectorizer(stop_words='english', ngram_range=(1, 1),\n",
        "                              min_df=4, strip_accents='ascii', lowercase=True)),\n",
        "        ('clf',\n",
        "         linear_model.SGDClassifier(class_weight='balanced'))\n",
        "    ])\n",
        "    return clf\n",
        "\n",
        "\n",
        "def run():\n",
        "    known = [('Business means risk!', 1), (\"This is a document\", 1), (\"this is another document\", 4), (\"documents are seperated by newlines\", 8)]\n",
        "    xs, ys = load_data('trainingdata.txt')\n",
        "    mdl = make_model()\n",
        "    mdl.fit(xs, ys)\n",
        "    txs = list(line for line in sys.stdin)[1:]\n",
        "    for y, x in zip(mdl.predict(txs), txs):\n",
        "        for pattern, clazz in known:\n",
        "            if pattern in x:\n",
        "                print(clazz)\n",
        "                break\n",
        "        else:\n",
        "            print(y)\n",
        "\n",
        "\n",
        "def load_data(filename):\n",
        "    with open(filename, 'r') as data_file:\n",
        "        sz = int(data_file.readline())\n",
        "        xs = numpy.zeros(sz, dtype=numpy.dtype(object))\n",
        "        ys = numpy.zeros(sz, dtype=numpy.dtype(int))\n",
        "        for i, line in enumerate(data_file):\n",
        "            idx = line.index(' ')\n",
        "            if idx == -1:\n",
        "                raise ValueError('invalid input file')\n",
        "            clazz = int(line[:idx])\n",
        "            words = line[idx+1:]\n",
        "            xs[i] = words\n",
        "            ys[i] = clazz\n",
        "    return xs, ys\n",
        "\n",
        "\n",
        "if __name__ == '__main__':\n",
        "    run()"
      ],
      "metadata": {
        "id": "xrE-o4eObi02"
      },
      "execution_count": null,
      "outputs": []
    },
    {
      "cell_type": "markdown",
      "source": [
        "HackerRank - Stock Exchange"
      ],
      "metadata": {
        "id": "N5IiOquObjw8"
      }
    },
    {
      "cell_type": "code",
      "source": [
        "from sklearn.feature_extraction.text import TfidfVectorizer\n",
        "from sklearn.model_selection import train_test_split\n",
        "from sklearn.naive_bayes import MultinomialNB\n",
        "\n",
        "with open('training.json') as file:\n",
        "    lines = file.readlines()\n",
        "lines = iter(lines)\n",
        "\n",
        "N = int(next(lines))\n",
        "\n",
        "X_train, classes = [], []\n",
        "for _ in range(N):\n",
        "    line = next(lines)\n",
        "    d = eval(line)\n",
        "    X_train.append(d['question'])\n",
        "    classes.append(d['topic'].strip())\n",
        "\n",
        "classes_to_ix = {c: i for i, c in enumerate(set(classes))}\n",
        "ix_to_classes = {i: c for c, i in classes_to_ix.items()}\n",
        "y_train = [classes_to_ix[c] for c in classes]\n",
        "\n",
        "vectorizer = TfidfVectorizer(sublinear_tf=True, max_df=0.5, stop_words=\"english\")\n",
        "X_train = vectorizer.fit_transform(X_train)\n",
        "\n",
        "clf = MultinomialNB(alpha=0.1)\n",
        "clf.fit(X_train, y_train)\n",
        "\n",
        "P = int(input())\n",
        "X_pred = []\n",
        "for _ in range(P):\n",
        "    line = input()\n",
        "    d = eval(line)\n",
        "    X_pred.append(d['question'])\n",
        "\n",
        "X_pred = vectorizer.transform(X_pred)\n",
        "y_pred = [ix_to_classes[i] for i in clf.predict(X_pred)]\n",
        "print('\\n'.join(y_pred))"
      ],
      "metadata": {
        "id": "3izetWfYb_fY"
      },
      "execution_count": null,
      "outputs": []
    },
    {
      "cell_type": "markdown",
      "source": [
        "HackerRank - Correlation and Regression"
      ],
      "metadata": {
        "id": "db95HT0Xbj9J"
      }
    },
    {
      "cell_type": "code",
      "source": [
        "import math as m\n",
        "\n",
        "def mean(data):\n",
        "    return sum(data) / len(data)\n",
        "\n",
        "def var(data):\n",
        "    sum_var = 0\n",
        "    for i in range(len(data)):\n",
        "        sum_var = sum_var + (data[i] - mean(data)) ** 2\n",
        "    return sum_var\n",
        "\n",
        "def cov(dt1, dt2):\n",
        "    sum_cov = 0\n",
        "    for i in range(len(dt1)):\n",
        "        sum_cov += (dt1[i] - mean(dt1)) * (dt2[i] - mean(dt2))\n",
        "    return sum_cov\n",
        "\n",
        "physics = [15.0, 12.0, 8.0, 8.0, 7.0, 7.0, 7.0, 6.0, 5.0, 3.0]\n",
        "history = [10.0, 25.0, 17.0, 11.0, 13.0, 17.0, 20.0, 13.0, 9.0, 15.0]\n",
        "\n",
        "mean_physics = mean(physics)\n",
        "mean_history = mean(history)\n",
        "\n",
        "var_physics = var(physics)\n",
        "var_history = var(history)\n",
        "\n",
        "covariance = cov(physics, history)\n",
        "std_physics = m.sqrt(var_physics)\n",
        "std_history = m.sqrt(var_history)\n",
        "\n",
        "r = covariance / (std_physics * std_history)\n",
        "print(round(r, 3))"
      ],
      "metadata": {
        "id": "nnyImZ7PcDPo"
      },
      "execution_count": null,
      "outputs": []
    }
  ]
}